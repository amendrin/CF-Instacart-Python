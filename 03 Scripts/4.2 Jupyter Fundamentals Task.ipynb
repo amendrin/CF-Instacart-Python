{
 "cells": [
  {
   "cell_type": "markdown",
   "id": "a7381b84",
   "metadata": {},
   "source": [
    "# List of Contents\n",
    "### 01. Importing Libraries\n",
    "### 02. Python Data Types"
   ]
  },
  {
   "cell_type": "markdown",
   "id": "9a3fc881",
   "metadata": {},
   "source": [
    "# 01. Importing Libraries"
   ]
  },
  {
   "cell_type": "code",
   "execution_count": 1,
   "id": "25353097",
   "metadata": {},
   "outputs": [],
   "source": [
    "import pandas as pd"
   ]
  },
  {
   "cell_type": "code",
   "execution_count": 2,
   "id": "13c3d3e9",
   "metadata": {},
   "outputs": [],
   "source": [
    "import numpy as np"
   ]
  },
  {
   "cell_type": "code",
   "execution_count": 3,
   "id": "e49b60bd",
   "metadata": {},
   "outputs": [],
   "source": [
    "import os"
   ]
  },
  {
   "cell_type": "markdown",
   "id": "b88b1d8c",
   "metadata": {},
   "source": [
    "### The above codes are to import libraries into jupyter"
   ]
  },
  {
   "cell_type": "markdown",
   "id": "d2f20db7",
   "metadata": {},
   "source": [
    "# 02. Python Data Types"
   ]
  },
  {
   "cell_type": "code",
   "execution_count": 5,
   "id": "e7080d55",
   "metadata": {},
   "outputs": [],
   "source": [
    "a=50"
   ]
  },
  {
   "cell_type": "code",
   "execution_count": 6,
   "id": "4221e9f4",
   "metadata": {},
   "outputs": [],
   "source": [
    "b=150"
   ]
  },
  {
   "cell_type": "code",
   "execution_count": 7,
   "id": "4688640f",
   "metadata": {},
   "outputs": [],
   "source": [
    "c=25"
   ]
  },
  {
   "cell_type": "code",
   "execution_count": 8,
   "id": "28b2c94f",
   "metadata": {},
   "outputs": [
    {
     "data": {
      "text/plain": [
       "100"
      ]
     },
     "execution_count": 8,
     "metadata": {},
     "output_type": "execute_result"
    }
   ],
   "source": [
    "a+a"
   ]
  },
  {
   "cell_type": "code",
   "execution_count": 9,
   "id": "a8757c44",
   "metadata": {},
   "outputs": [
    {
     "data": {
      "text/plain": [
       "100"
      ]
     },
     "execution_count": 9,
     "metadata": {},
     "output_type": "execute_result"
    }
   ],
   "source": [
    "b-a"
   ]
  },
  {
   "cell_type": "code",
   "execution_count": 10,
   "id": "2f4bd7e1",
   "metadata": {},
   "outputs": [
    {
     "data": {
      "text/plain": [
       "100"
      ]
     },
     "execution_count": 10,
     "metadata": {},
     "output_type": "execute_result"
    }
   ],
   "source": [
    "a+c+c"
   ]
  },
  {
   "cell_type": "markdown",
   "id": "1c096e97",
   "metadata": {},
   "source": [
    "### 7. Lines 8,9,10 are three different operations to reach a result of 100"
   ]
  },
  {
   "cell_type": "code",
   "execution_count": 11,
   "id": "cd744eb2",
   "metadata": {},
   "outputs": [],
   "source": [
    "d=15.2"
   ]
  },
  {
   "cell_type": "code",
   "execution_count": 12,
   "id": "0f6376cf",
   "metadata": {},
   "outputs": [],
   "source": [
    "e=2.7"
   ]
  },
  {
   "cell_type": "code",
   "execution_count": 13,
   "id": "6de7a230",
   "metadata": {},
   "outputs": [
    {
     "data": {
      "text/plain": [
       "5.629629629629629"
      ]
     },
     "execution_count": 13,
     "metadata": {},
     "output_type": "execute_result"
    }
   ],
   "source": [
    "d/e"
   ]
  },
  {
   "cell_type": "markdown",
   "id": "54c386b2",
   "metadata": {},
   "source": [
    "### 8. Line 13 represents two floating-point variables divided by each other"
   ]
  },
  {
   "cell_type": "code",
   "execution_count": 14,
   "id": "4dc20f9a",
   "metadata": {},
   "outputs": [],
   "source": [
    "f= 'How '"
   ]
  },
  {
   "cell_type": "code",
   "execution_count": 15,
   "id": "b1d3f5da",
   "metadata": {},
   "outputs": [],
   "source": [
    "g= 'are '"
   ]
  },
  {
   "cell_type": "code",
   "execution_count": 16,
   "id": "334150b3",
   "metadata": {},
   "outputs": [],
   "source": [
    "h= 'you '"
   ]
  },
  {
   "cell_type": "code",
   "execution_count": 17,
   "id": "553550d4",
   "metadata": {},
   "outputs": [],
   "source": [
    "i= 'feeling '"
   ]
  },
  {
   "cell_type": "code",
   "execution_count": 18,
   "id": "0d7852de",
   "metadata": {},
   "outputs": [],
   "source": [
    "j= 'today'"
   ]
  },
  {
   "cell_type": "code",
   "execution_count": 19,
   "id": "14521833",
   "metadata": {},
   "outputs": [],
   "source": [
    "k= \"When \""
   ]
  },
  {
   "cell_type": "code",
   "execution_count": 20,
   "id": "ad36c767",
   "metadata": {},
   "outputs": [],
   "source": [
    "l= 'arriving '"
   ]
  },
  {
   "cell_type": "code",
   "execution_count": 21,
   "id": "8a1f8f0d",
   "metadata": {},
   "outputs": [
    {
     "data": {
      "text/plain": [
       "'How are you feeling today'"
      ]
     },
     "execution_count": 21,
     "metadata": {},
     "output_type": "execute_result"
    }
   ],
   "source": [
    "f+g+h+i+j"
   ]
  },
  {
   "cell_type": "code",
   "execution_count": 22,
   "id": "853c661b",
   "metadata": {},
   "outputs": [
    {
     "data": {
      "text/plain": [
       "'When are you arriving today'"
      ]
     },
     "execution_count": 22,
     "metadata": {},
     "output_type": "execute_result"
    }
   ],
   "source": [
    "k+g+h+l+j"
   ]
  },
  {
   "cell_type": "markdown",
   "id": "6e6010ca",
   "metadata": {},
   "source": [
    "### 10. Lines 21 and 22 are short sentences made up of separate strings."
   ]
  },
  {
   "cell_type": "code",
   "execution_count": 23,
   "id": "e6eca00e",
   "metadata": {},
   "outputs": [
    {
     "data": {
      "text/plain": [
       "'todaytodaytodaytodaytodaytodaytodaytodaytodaytodaytodaytodaytodaytodaytodaytodaytodaytodaytodaytodaytodaytodaytodaytodaytodaytodaytodaytodaytodaytodaytodaytodaytodaytodaytodaytodaytodaytodaytodaytodaytodaytodaytodaytodaytodaytodaytodaytodaytodaytodaytodaytodaytodaytodaytodaytodaytodaytodaytodaytodaytodaytodaytodaytodaytodaytodaytodaytodaytodaytodaytodaytodaytodaytodaytodaytodaytodaytodaytodaytodaytodaytodaytodaytodaytodaytodaytodaytodaytodaytodaytodaytodaytodaytodaytodaytodaytodaytodaytodaytoday'"
      ]
     },
     "execution_count": 23,
     "metadata": {},
     "output_type": "execute_result"
    }
   ],
   "source": [
    "j*100"
   ]
  },
  {
   "cell_type": "markdown",
   "id": "44c57945",
   "metadata": {},
   "source": [
    "### Bonus Task: Line 23"
   ]
  },
  {
   "cell_type": "code",
   "execution_count": null,
   "id": "d1f96764",
   "metadata": {},
   "outputs": [],
   "source": []
  }
 ],
 "metadata": {
  "kernelspec": {
   "display_name": "Python 3 (ipykernel)",
   "language": "python",
   "name": "python3"
  },
  "language_info": {
   "codemirror_mode": {
    "name": "ipython",
    "version": 3
   },
   "file_extension": ".py",
   "mimetype": "text/x-python",
   "name": "python",
   "nbconvert_exporter": "python",
   "pygments_lexer": "ipython3",
   "version": "3.9.12"
  }
 },
 "nbformat": 4,
 "nbformat_minor": 5
}
