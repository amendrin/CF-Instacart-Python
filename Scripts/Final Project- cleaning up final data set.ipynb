{
 "cells": [
  {
   "cell_type": "markdown",
   "id": "6ebf1065",
   "metadata": {},
   "source": [
    "# Table of Contents\n",
    "### 01. Import Libraries\n",
    "### 02. Import Dataset\n",
    "### 03. Dataset General Information\n",
    "### 04. Changing Datatypes\n",
    "### 05. Drop Columns\n",
    "### 06. Export Final Dataframe"
   ]
  },
  {
   "cell_type": "markdown",
   "id": "699d26a3",
   "metadata": {},
   "source": [
    "# 01. Import Libraries"
   ]
  },
  {
   "cell_type": "code",
   "execution_count": 1,
   "id": "8e22703a",
   "metadata": {},
   "outputs": [],
   "source": [
    "import pandas as pd\n",
    "import numpy as np\n",
    "import os"
   ]
  },
  {
   "cell_type": "markdown",
   "id": "431d02ae",
   "metadata": {},
   "source": [
    "# 02. Import Dataset"
   ]
  },
  {
   "cell_type": "code",
   "execution_count": 2,
   "id": "08a039ff",
   "metadata": {},
   "outputs": [],
   "source": [
    "path= r'/Users/alexmendrin/Documents/Career Foundry/Data Immersion/Achievement 4/InstaCart Basket Analysis'"
   ]
  },
  {
   "cell_type": "code",
   "execution_count": 3,
   "id": "c188148e",
   "metadata": {},
   "outputs": [],
   "source": [
    "#up to data dataset\n",
    "df= pd.read_pickle(os.path.join(path, '02 Data', 'Prepared Data', 'orders_products_all.pkl'))"
   ]
  },
  {
   "cell_type": "markdown",
   "id": "767e4b98",
   "metadata": {},
   "source": [
    "# 03. Dataset General Information"
   ]
  },
  {
   "cell_type": "code",
   "execution_count": 4,
   "id": "58d0295a",
   "metadata": {},
   "outputs": [
    {
     "data": {
      "text/plain": [
       "(32404859, 33)"
      ]
     },
     "execution_count": 4,
     "metadata": {},
     "output_type": "execute_result"
    }
   ],
   "source": [
    "df.shape"
   ]
  },
  {
   "cell_type": "code",
   "execution_count": 5,
   "id": "4708c745",
   "metadata": {},
   "outputs": [
    {
     "data": {
      "text/html": [
       "<div>\n",
       "<style scoped>\n",
       "    .dataframe tbody tr th:only-of-type {\n",
       "        vertical-align: middle;\n",
       "    }\n",
       "\n",
       "    .dataframe tbody tr th {\n",
       "        vertical-align: top;\n",
       "    }\n",
       "\n",
       "    .dataframe thead th {\n",
       "        text-align: right;\n",
       "    }\n",
       "</style>\n",
       "<table border=\"1\" class=\"dataframe\">\n",
       "  <thead>\n",
       "    <tr style=\"text-align: right;\">\n",
       "      <th></th>\n",
       "      <th>order_id</th>\n",
       "      <th>user_id</th>\n",
       "      <th>order_number</th>\n",
       "      <th>orders_day_of_the_week</th>\n",
       "      <th>order_hour_of_day</th>\n",
       "      <th>days_since_prior_order</th>\n",
       "      <th>new_customer</th>\n",
       "      <th>product_id</th>\n",
       "      <th>add_to_cart_order</th>\n",
       "      <th>reordered</th>\n",
       "      <th>...</th>\n",
       "      <th>first_name</th>\n",
       "      <th>last_name</th>\n",
       "      <th>gender</th>\n",
       "      <th>state</th>\n",
       "      <th>age</th>\n",
       "      <th>date_joined</th>\n",
       "      <th>number_of_dependants</th>\n",
       "      <th>family_status</th>\n",
       "      <th>income</th>\n",
       "      <th>_merge</th>\n",
       "    </tr>\n",
       "  </thead>\n",
       "  <tbody>\n",
       "    <tr>\n",
       "      <th>0</th>\n",
       "      <td>2539329</td>\n",
       "      <td>1</td>\n",
       "      <td>1</td>\n",
       "      <td>2</td>\n",
       "      <td>8</td>\n",
       "      <td>NaN</td>\n",
       "      <td>True</td>\n",
       "      <td>196</td>\n",
       "      <td>1</td>\n",
       "      <td>0</td>\n",
       "      <td>...</td>\n",
       "      <td>Linda</td>\n",
       "      <td>Nguyen</td>\n",
       "      <td>Female</td>\n",
       "      <td>Alabama</td>\n",
       "      <td>31</td>\n",
       "      <td>2/17/2019</td>\n",
       "      <td>3</td>\n",
       "      <td>married</td>\n",
       "      <td>40423</td>\n",
       "      <td>both</td>\n",
       "    </tr>\n",
       "    <tr>\n",
       "      <th>1</th>\n",
       "      <td>2398795</td>\n",
       "      <td>1</td>\n",
       "      <td>2</td>\n",
       "      <td>3</td>\n",
       "      <td>7</td>\n",
       "      <td>15.0</td>\n",
       "      <td>False</td>\n",
       "      <td>196</td>\n",
       "      <td>1</td>\n",
       "      <td>1</td>\n",
       "      <td>...</td>\n",
       "      <td>Linda</td>\n",
       "      <td>Nguyen</td>\n",
       "      <td>Female</td>\n",
       "      <td>Alabama</td>\n",
       "      <td>31</td>\n",
       "      <td>2/17/2019</td>\n",
       "      <td>3</td>\n",
       "      <td>married</td>\n",
       "      <td>40423</td>\n",
       "      <td>both</td>\n",
       "    </tr>\n",
       "    <tr>\n",
       "      <th>2</th>\n",
       "      <td>473747</td>\n",
       "      <td>1</td>\n",
       "      <td>3</td>\n",
       "      <td>3</td>\n",
       "      <td>12</td>\n",
       "      <td>21.0</td>\n",
       "      <td>False</td>\n",
       "      <td>196</td>\n",
       "      <td>1</td>\n",
       "      <td>1</td>\n",
       "      <td>...</td>\n",
       "      <td>Linda</td>\n",
       "      <td>Nguyen</td>\n",
       "      <td>Female</td>\n",
       "      <td>Alabama</td>\n",
       "      <td>31</td>\n",
       "      <td>2/17/2019</td>\n",
       "      <td>3</td>\n",
       "      <td>married</td>\n",
       "      <td>40423</td>\n",
       "      <td>both</td>\n",
       "    </tr>\n",
       "    <tr>\n",
       "      <th>3</th>\n",
       "      <td>2254736</td>\n",
       "      <td>1</td>\n",
       "      <td>4</td>\n",
       "      <td>4</td>\n",
       "      <td>7</td>\n",
       "      <td>29.0</td>\n",
       "      <td>False</td>\n",
       "      <td>196</td>\n",
       "      <td>1</td>\n",
       "      <td>1</td>\n",
       "      <td>...</td>\n",
       "      <td>Linda</td>\n",
       "      <td>Nguyen</td>\n",
       "      <td>Female</td>\n",
       "      <td>Alabama</td>\n",
       "      <td>31</td>\n",
       "      <td>2/17/2019</td>\n",
       "      <td>3</td>\n",
       "      <td>married</td>\n",
       "      <td>40423</td>\n",
       "      <td>both</td>\n",
       "    </tr>\n",
       "    <tr>\n",
       "      <th>4</th>\n",
       "      <td>431534</td>\n",
       "      <td>1</td>\n",
       "      <td>5</td>\n",
       "      <td>4</td>\n",
       "      <td>15</td>\n",
       "      <td>28.0</td>\n",
       "      <td>False</td>\n",
       "      <td>196</td>\n",
       "      <td>1</td>\n",
       "      <td>1</td>\n",
       "      <td>...</td>\n",
       "      <td>Linda</td>\n",
       "      <td>Nguyen</td>\n",
       "      <td>Female</td>\n",
       "      <td>Alabama</td>\n",
       "      <td>31</td>\n",
       "      <td>2/17/2019</td>\n",
       "      <td>3</td>\n",
       "      <td>married</td>\n",
       "      <td>40423</td>\n",
       "      <td>both</td>\n",
       "    </tr>\n",
       "  </tbody>\n",
       "</table>\n",
       "<p>5 rows × 33 columns</p>\n",
       "</div>"
      ],
      "text/plain": [
       "   order_id  user_id  order_number  orders_day_of_the_week  order_hour_of_day  \\\n",
       "0   2539329        1             1                       2                  8   \n",
       "1   2398795        1             2                       3                  7   \n",
       "2    473747        1             3                       3                 12   \n",
       "3   2254736        1             4                       4                  7   \n",
       "4    431534        1             5                       4                 15   \n",
       "\n",
       "   days_since_prior_order  new_customer  product_id  add_to_cart_order  \\\n",
       "0                     NaN          True         196                  1   \n",
       "1                    15.0         False         196                  1   \n",
       "2                    21.0         False         196                  1   \n",
       "3                    29.0         False         196                  1   \n",
       "4                    28.0         False         196                  1   \n",
       "\n",
       "   reordered  ... first_name  last_name  gender    state age date_joined  \\\n",
       "0          0  ...      Linda     Nguyen  Female  Alabama  31   2/17/2019   \n",
       "1          1  ...      Linda     Nguyen  Female  Alabama  31   2/17/2019   \n",
       "2          1  ...      Linda     Nguyen  Female  Alabama  31   2/17/2019   \n",
       "3          1  ...      Linda     Nguyen  Female  Alabama  31   2/17/2019   \n",
       "4          1  ...      Linda     Nguyen  Female  Alabama  31   2/17/2019   \n",
       "\n",
       "  number_of_dependants  family_status income  _merge  \n",
       "0                    3        married  40423    both  \n",
       "1                    3        married  40423    both  \n",
       "2                    3        married  40423    both  \n",
       "3                    3        married  40423    both  \n",
       "4                    3        married  40423    both  \n",
       "\n",
       "[5 rows x 33 columns]"
      ]
     },
     "execution_count": 5,
     "metadata": {},
     "output_type": "execute_result"
    }
   ],
   "source": [
    "df.head()"
   ]
  },
  {
   "cell_type": "code",
   "execution_count": 7,
   "id": "a78f8031",
   "metadata": {},
   "outputs": [
    {
     "data": {
      "text/plain": [
       "Index(['order_id', 'user_id', 'order_number', 'orders_day_of_the_week',\n",
       "       'order_hour_of_day', 'days_since_prior_order', 'new_customer',\n",
       "       'product_id', 'add_to_cart_order', 'reordered', 'product_name',\n",
       "       'aisle_id', 'department_id', 'prices', 'price_range_loc',\n",
       "       'busiest_days', 'busiest_period_of_day', 'max_order', 'loyalty_flag',\n",
       "       'average_price', 'spending_flag', 'median_order_frequency',\n",
       "       'order_frequency_flag', 'first_name', 'last_name', 'gender', 'state',\n",
       "       'age', 'date_joined', 'number_of_dependants', 'family_status', 'income',\n",
       "       '_merge'],\n",
       "      dtype='object')"
      ]
     },
     "execution_count": 7,
     "metadata": {},
     "output_type": "execute_result"
    }
   ],
   "source": [
    "df.columns"
   ]
  },
  {
   "cell_type": "code",
   "execution_count": 14,
   "id": "8e94a04e",
   "metadata": {},
   "outputs": [
    {
     "name": "stdout",
     "output_type": "stream",
     "text": [
      "<class 'pandas.core.frame.DataFrame'>\n",
      "Int64Index: 32404859 entries, 0 to 32404858\n",
      "Data columns (total 33 columns):\n",
      " #   Column                  Dtype   \n",
      "---  ------                  -----   \n",
      " 0   order_id                int32   \n",
      " 1   user_id                 int64   \n",
      " 2   order_number            int64   \n",
      " 3   orders_day_of_the_week  int64   \n",
      " 4   order_hour_of_day       int64   \n",
      " 5   days_since_prior_order  float64 \n",
      " 6   new_customer            bool    \n",
      " 7   product_id              int64   \n",
      " 8   add_to_cart_order       int64   \n",
      " 9   reordered               int64   \n",
      " 10  product_name            object  \n",
      " 11  aisle_id                int64   \n",
      " 12  department_id           int64   \n",
      " 13  prices                  float64 \n",
      " 14  price_range_loc         object  \n",
      " 15  busiest_days            object  \n",
      " 16  busiest_period_of_day   object  \n",
      " 17  max_order               int64   \n",
      " 18  loyalty_flag            object  \n",
      " 19  average_price           float64 \n",
      " 20  spending_flag           object  \n",
      " 21  median_order_frequency  float64 \n",
      " 22  order_frequency_flag    object  \n",
      " 23  first_name              object  \n",
      " 24  last_name               object  \n",
      " 25  gender                  object  \n",
      " 26  state                   object  \n",
      " 27  age                     int64   \n",
      " 28  date_joined             object  \n",
      " 29  number_of_dependants    int64   \n",
      " 30  family_status           object  \n",
      " 31  income                  int64   \n",
      " 32  _merge                  category\n",
      "dtypes: bool(1), category(1), float64(4), int32(1), int64(13), object(13)\n",
      "memory usage: 7.7+ GB\n"
     ]
    }
   ],
   "source": [
    "df.info()"
   ]
  },
  {
   "cell_type": "markdown",
   "id": "990f7a1a",
   "metadata": {},
   "source": [
    "# 04. Changing Datatypes"
   ]
  },
  {
   "cell_type": "code",
   "execution_count": 13,
   "id": "ab8c2c13",
   "metadata": {},
   "outputs": [],
   "source": [
    "df['order_id']=df['order_id'].astype('int32')"
   ]
  },
  {
   "cell_type": "code",
   "execution_count": 16,
   "id": "f40d2e7d",
   "metadata": {},
   "outputs": [],
   "source": [
    "df['user_id']= df['user_id'].astype('int32')"
   ]
  },
  {
   "cell_type": "code",
   "execution_count": 18,
   "id": "8cd7c04a",
   "metadata": {},
   "outputs": [],
   "source": [
    "df['order_number']=df['order_number'].astype('int8')"
   ]
  },
  {
   "cell_type": "code",
   "execution_count": 20,
   "id": "ede25603",
   "metadata": {},
   "outputs": [],
   "source": [
    "df['orders_day_of_the_week']= df['orders_day_of_the_week'].astype('int8')"
   ]
  },
  {
   "cell_type": "code",
   "execution_count": 22,
   "id": "e3f16492",
   "metadata": {},
   "outputs": [],
   "source": [
    "df['order_hour_of_day']=df['order_hour_of_day'].astype('int8')"
   ]
  },
  {
   "cell_type": "code",
   "execution_count": 26,
   "id": "6951c376",
   "metadata": {},
   "outputs": [],
   "source": [
    "df['product_id']= df['product_id'].astype('int32')"
   ]
  },
  {
   "cell_type": "code",
   "execution_count": 28,
   "id": "8e9ad682",
   "metadata": {},
   "outputs": [],
   "source": [
    "df['add_to_cart_order']=df['add_to_cart_order'].astype('int16')"
   ]
  },
  {
   "cell_type": "code",
   "execution_count": 30,
   "id": "0e215f4f",
   "metadata": {},
   "outputs": [],
   "source": [
    "df['reordered']=df['reordered'].astype('int8')"
   ]
  },
  {
   "cell_type": "code",
   "execution_count": 32,
   "id": "23931d7c",
   "metadata": {},
   "outputs": [],
   "source": [
    "df['aisle_id']=df['aisle_id'].astype('int16')"
   ]
  },
  {
   "cell_type": "code",
   "execution_count": 34,
   "id": "c179f1cd",
   "metadata": {},
   "outputs": [],
   "source": [
    "df['department_id']=df['department_id'].astype('int8')"
   ]
  },
  {
   "cell_type": "code",
   "execution_count": 36,
   "id": "855d78b9",
   "metadata": {},
   "outputs": [],
   "source": [
    "df['max_order']=df['max_order'].astype('int8')"
   ]
  },
  {
   "cell_type": "code",
   "execution_count": 37,
   "id": "b7825fe8",
   "metadata": {},
   "outputs": [],
   "source": [
    "df['age']=df['age'].astype('int8')"
   ]
  },
  {
   "cell_type": "code",
   "execution_count": 38,
   "id": "7f5b2b7e",
   "metadata": {},
   "outputs": [],
   "source": [
    "df['number_of_dependants']=df['number_of_dependants'].astype('int8')"
   ]
  },
  {
   "cell_type": "code",
   "execution_count": 40,
   "id": "5bcf7f7d",
   "metadata": {},
   "outputs": [],
   "source": [
    "df['income']=df['income'].astype('int32')"
   ]
  },
  {
   "cell_type": "code",
   "execution_count": 41,
   "id": "ecf62dc1",
   "metadata": {},
   "outputs": [
    {
     "name": "stdout",
     "output_type": "stream",
     "text": [
      "<class 'pandas.core.frame.DataFrame'>\n",
      "Int64Index: 32404859 entries, 0 to 32404858\n",
      "Data columns (total 33 columns):\n",
      " #   Column                  Dtype   \n",
      "---  ------                  -----   \n",
      " 0   order_id                int32   \n",
      " 1   user_id                 int32   \n",
      " 2   order_number            int8    \n",
      " 3   orders_day_of_the_week  int8    \n",
      " 4   order_hour_of_day       int8    \n",
      " 5   days_since_prior_order  float64 \n",
      " 6   new_customer            bool    \n",
      " 7   product_id              int32   \n",
      " 8   add_to_cart_order       int16   \n",
      " 9   reordered               int8    \n",
      " 10  product_name            object  \n",
      " 11  aisle_id                int16   \n",
      " 12  department_id           int8    \n",
      " 13  prices                  float64 \n",
      " 14  price_range_loc         object  \n",
      " 15  busiest_days            object  \n",
      " 16  busiest_period_of_day   object  \n",
      " 17  max_order               int8    \n",
      " 18  loyalty_flag            object  \n",
      " 19  average_price           float64 \n",
      " 20  spending_flag           object  \n",
      " 21  median_order_frequency  float64 \n",
      " 22  order_frequency_flag    object  \n",
      " 23  first_name              object  \n",
      " 24  last_name               object  \n",
      " 25  gender                  object  \n",
      " 26  state                   object  \n",
      " 27  age                     int8    \n",
      " 28  date_joined             object  \n",
      " 29  number_of_dependants    int8    \n",
      " 30  family_status           object  \n",
      " 31  income                  int32   \n",
      " 32  _merge                  category\n",
      "dtypes: bool(1), category(1), float64(4), int16(2), int32(4), int8(8), object(13)\n",
      "memory usage: 5.3+ GB\n"
     ]
    }
   ],
   "source": [
    "df.info()"
   ]
  },
  {
   "cell_type": "markdown",
   "id": "ab14540e",
   "metadata": {},
   "source": [
    "# 05. Drop Columns"
   ]
  },
  {
   "cell_type": "code",
   "execution_count": 42,
   "id": "bfbba3bd",
   "metadata": {},
   "outputs": [],
   "source": [
    "df= df.drop(columns= ['_merge'])"
   ]
  },
  {
   "cell_type": "code",
   "execution_count": 43,
   "id": "54eebfac",
   "metadata": {},
   "outputs": [
    {
     "name": "stdout",
     "output_type": "stream",
     "text": [
      "<class 'pandas.core.frame.DataFrame'>\n",
      "Int64Index: 32404859 entries, 0 to 32404858\n",
      "Data columns (total 32 columns):\n",
      " #   Column                  Dtype  \n",
      "---  ------                  -----  \n",
      " 0   order_id                int32  \n",
      " 1   user_id                 int32  \n",
      " 2   order_number            int8   \n",
      " 3   orders_day_of_the_week  int8   \n",
      " 4   order_hour_of_day       int8   \n",
      " 5   days_since_prior_order  float64\n",
      " 6   new_customer            bool   \n",
      " 7   product_id              int32  \n",
      " 8   add_to_cart_order       int16  \n",
      " 9   reordered               int8   \n",
      " 10  product_name            object \n",
      " 11  aisle_id                int16  \n",
      " 12  department_id           int8   \n",
      " 13  prices                  float64\n",
      " 14  price_range_loc         object \n",
      " 15  busiest_days            object \n",
      " 16  busiest_period_of_day   object \n",
      " 17  max_order               int8   \n",
      " 18  loyalty_flag            object \n",
      " 19  average_price           float64\n",
      " 20  spending_flag           object \n",
      " 21  median_order_frequency  float64\n",
      " 22  order_frequency_flag    object \n",
      " 23  first_name              object \n",
      " 24  last_name               object \n",
      " 25  gender                  object \n",
      " 26  state                   object \n",
      " 27  age                     int8   \n",
      " 28  date_joined             object \n",
      " 29  number_of_dependants    int8   \n",
      " 30  family_status           object \n",
      " 31  income                  int32  \n",
      "dtypes: bool(1), float64(4), int16(2), int32(4), int8(8), object(13)\n",
      "memory usage: 5.2+ GB\n"
     ]
    }
   ],
   "source": [
    "df.info()"
   ]
  },
  {
   "cell_type": "markdown",
   "id": "b2ecf124",
   "metadata": {},
   "source": [
    "# 06. Export Final Dataset"
   ]
  },
  {
   "cell_type": "code",
   "execution_count": 44,
   "id": "c961190c",
   "metadata": {},
   "outputs": [],
   "source": [
    "df.to_pickle(os.path.join(path, '02 Data', 'Prepared Data', 'orders_products_all_2.pkl'))"
   ]
  },
  {
   "cell_type": "code",
   "execution_count": null,
   "id": "066aaa5e",
   "metadata": {},
   "outputs": [],
   "source": []
  }
 ],
 "metadata": {
  "kernelspec": {
   "display_name": "Python 3 (ipykernel)",
   "language": "python",
   "name": "python3"
  },
  "language_info": {
   "codemirror_mode": {
    "name": "ipython",
    "version": 3
   },
   "file_extension": ".py",
   "mimetype": "text/x-python",
   "name": "python",
   "nbconvert_exporter": "python",
   "pygments_lexer": "ipython3",
   "version": "3.9.12"
  }
 },
 "nbformat": 4,
 "nbformat_minor": 5
}
